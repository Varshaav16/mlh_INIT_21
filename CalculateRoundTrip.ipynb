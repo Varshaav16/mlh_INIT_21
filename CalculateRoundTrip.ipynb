{
  "nbformat": 4,
  "nbformat_minor": 0,
  "metadata": {
    "colab": {
      "name": "CalculateRoundTrip.ipynb",
      "provenance": [],
      "authorship_tag": "ABX9TyNJiacKBf0rH3j2V+3Lxa29",
      "include_colab_link": true
    },
    "kernelspec": {
      "name": "python3",
      "display_name": "Python 3"
    }
  },
  "cells": [
    {
      "cell_type": "markdown",
      "metadata": {
        "id": "view-in-github",
        "colab_type": "text"
      },
      "source": [
        "<a href=\"https://colab.research.google.com/github/Varshaav16/mlh_INIT_21/blob/main/CalculateRoundTrip.ipynb\" target=\"_parent\"><img src=\"https://colab.research.google.com/assets/colab-badge.svg\" alt=\"Open In Colab\"/></a>"
      ]
    },
    {
      "cell_type": "code",
      "metadata": {
        "colab": {
          "base_uri": "https://localhost:8080/"
        },
        "id": "oHNjIKr4MXqP",
        "outputId": "138a9dfd-3f3e-47d3-be3e-8714b0abaeac"
      },
      "source": [
        "def sortDetails(details):\n",
        "    for i, fields in enumerate(details):\n",
        "        details[i].insert(0, list(map(int, fields[0].split('/'))))\n",
        "\n",
        "    details = sorted(details, key = lambda x: x[0][0])\n",
        "    details = sorted(details, key = lambda x: x[0][1])\n",
        "    details = sorted(details, key = lambda x: x[0][2])\n",
        "\n",
        "    for i, fields in enumerate(details):\n",
        "        details[i][0] = \"/\".join(str(_) for _ in details[i][0])\n",
        "        details[i].pop(1)\n",
        "        details[i].pop(1)\n",
        "  \n",
        "    return details\n",
        "  \n",
        "print(sortDetails([[\"16/02/2019\", \"Shriya\", \"Chandigarh\", \"Goa\"],\n",
        "                 [\"09/10/2019\", \"Asokan\", \"Mumbai\",\"Pune\"],\n",
        "                 [\"18/11/2019\",\"Ravisha\",\"Jaipur\",\"Patna\"],\n",
        "                 [\"25/05/2001\",\"Hima\",\"Hyderabad\",\"Chennai\"]])) "
      ],
      "execution_count": null,
      "outputs": [
        {
          "output_type": "stream",
          "text": [
            "[['25/5/2001', 'Hyderabad', 'Chennai'], ['16/2/2019', 'Chandigarh', 'Goa'], ['9/10/2019', 'Mumbai', 'Pune'], ['18/11/2019', 'Jaipur', 'Patna']]\n"
          ],
          "name": "stdout"
        }
      ]
    },
    {
      "cell_type": "markdown",
      "metadata": {
        "id": "EurI5kb4MZsc"
      },
      "source": [
        "Sorting the dataset based on dates dd - mm - yyyy\n",
        "\n",
        "\n",
        "A simple sort fn will sort based on ascii values (input is string)\n",
        "\n",
        "\n",
        "errors\n",
        "missing cases\n",
        "A->B, C->B, B->A, B->C  this data is aalready sorted acc to dates\n",
        "\n",
        "what if we have a missing case\n",
        "a -> b, c -> a shoouldn't be a round trip\n",
        "\n",
        "\n",
        "who all did 1 round trip\n",
        "\n",
        "source of all round trips [a, b, c, d]\n",
        "dest"
      ]
    },
    {
      "cell_type": "code",
      "metadata": {
        "colab": {
          "base_uri": "https://localhost:8080/"
        },
        "id": "oc6W8O4bjOHB",
        "outputId": "68ab49e0-f0ae-4ff2-e56e-3a0f548ec625"
      },
      "source": [
        "def decorate_divide(func):\n",
        "  def decorated(a, b):\n",
        "    if b == 0:\n",
        "      print('divide by 0 error')\n",
        "      return 0\n",
        "    return func(a, b)\n",
        "  return decorated\n",
        "\n",
        "def divide(x, y):\n",
        "  return x // y\n",
        "\n",
        "decorated_divide = decorate_divide(divide)\n",
        "\n",
        "decorated_divide(6, 3)"
      ],
      "execution_count": null,
      "outputs": [
        {
          "output_type": "execute_result",
          "data": {
            "text/plain": [
              "2"
            ]
          },
          "metadata": {
            "tags": []
          },
          "execution_count": 11
        }
      ]
    }
  ]
}